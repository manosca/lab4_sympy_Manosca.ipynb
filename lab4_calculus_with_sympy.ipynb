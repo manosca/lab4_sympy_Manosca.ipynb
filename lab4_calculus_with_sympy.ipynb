{
  "cells": [
    {
      "cell_type": "markdown",
      "metadata": {
        "id": "view-in-github",
        "colab_type": "text"
      },
      "source": [
        "<a href=\"https://colab.research.google.com/github/manosca/lab4_sympy_Manosca.ipynb/blob/main/lab4_calculus_with_sympy.ipynb\" target=\"_parent\"><img src=\"https://colab.research.google.com/assets/colab-badge.svg\" alt=\"Open In Colab\"/></a>"
      ]
    },
    {
      "cell_type": "markdown",
      "source": [
        "# Exploring Calculus with SymPy\n",
        "\n",
        "## Activity Instructions\n",
        "This activity is designed to help you explore how Python can be used to understand basic ideas in calculus — without needing to do any complex math.\n",
        "\n",
        "Use the Python code snippets provided to experiment and answer the questions."
      ],
      "metadata": {
        "id": "epXjlyn6ZAlm"
      },
      "id": "epXjlyn6ZAlm"
    },
    {
      "cell_type": "code",
      "source": [
        "from sympy import *"
      ],
      "metadata": {
        "id": "vZ0V7WGLXr9O"
      },
      "id": "vZ0V7WGLXr9O",
      "execution_count": 1,
      "outputs": []
    },
    {
      "cell_type": "markdown",
      "source": [
        "---\n",
        "## Playing with Symbols\n",
        "\n",
        "Try running this code:"
      ],
      "metadata": {
        "id": "RPFHhyHsYhGm"
      },
      "id": "RPFHhyHsYhGm"
    },
    {
      "cell_type": "code",
      "source": [
        "x = symbols('x')\n",
        "x + x"
      ],
      "metadata": {
        "id": "A92JlyDyYixm",
        "outputId": "6c638e90-094d-4799-a8e4-6aef8a3f8603",
        "colab": {
          "base_uri": "https://localhost:8080/",
          "height": 39
        }
      },
      "id": "A92JlyDyYixm",
      "execution_count": 2,
      "outputs": [
        {
          "output_type": "execute_result",
          "data": {
            "text/plain": [
              "2*x"
            ],
            "text/latex": "$\\displaystyle 2 x$"
          },
          "metadata": {},
          "execution_count": 2
        }
      ]
    },
    {
      "cell_type": "markdown",
      "source": [
        "**1. What do you think 'x + x' means?** (Answers below):"
      ],
      "metadata": {
        "id": "PX2gRq34YloO"
      },
      "id": "PX2gRq34YloO"
    },
    {
      "cell_type": "markdown",
      "source": [
        "In symbolic math, this is equivalent to:\n",
        "\n",
        "python\n",
        "Copy\n",
        "Edit\n",
        "x + x = 2*x\n",
        "So, 'x + x' simplifies to 2x — it represents twice the value of x."
      ],
      "metadata": {
        "id": "tVwJwr9Offlo"
      },
      "id": "tVwJwr9Offlo"
    },
    {
      "cell_type": "markdown",
      "source": [
        "Now try this:"
      ],
      "metadata": {
        "id": "yVF3ZEOoYwZe"
      },
      "id": "yVF3ZEOoYwZe"
    },
    {
      "cell_type": "code",
      "source": [
        "x * x"
      ],
      "metadata": {
        "id": "bxUoWvBmYulL",
        "outputId": "0c600b10-219f-4bf1-cace-416d5eb9a48a",
        "colab": {
          "base_uri": "https://localhost:8080/",
          "height": 39
        }
      },
      "id": "bxUoWvBmYulL",
      "execution_count": 8,
      "outputs": [
        {
          "output_type": "execute_result",
          "data": {
            "text/plain": [
              "x**2"
            ],
            "text/latex": "$\\displaystyle x^{2}$"
          },
          "metadata": {},
          "execution_count": 8
        }
      ]
    },
    {
      "cell_type": "markdown",
      "source": [
        "**2. What does `x * x` represent?** (Answers below):   "
      ],
      "metadata": {
        "id": "WTpPkyAlY1p1"
      },
      "id": "WTpPkyAlY1p1"
    },
    {
      "cell_type": "markdown",
      "source": [
        "---\n",
        "## Exploring Limits\n",
        "\n",
        "Try this code:"
      ],
      "metadata": {
        "id": "QiSJjx_VHq1p"
      },
      "id": "QiSJjx_VHq1p"
    },
    {
      "cell_type": "code",
      "source": [
        "limit(sin(x)/x, x, 0)"
      ],
      "metadata": {
        "id": "7JRyFVohH7UO",
        "outputId": "b1ca4f09-5d4e-4fd0-f851-c2e59b44f4af",
        "colab": {
          "base_uri": "https://localhost:8080/",
          "height": 37
        }
      },
      "id": "7JRyFVohH7UO",
      "execution_count": 3,
      "outputs": [
        {
          "output_type": "execute_result",
          "data": {
            "text/plain": [
              "1"
            ],
            "text/latex": "$\\displaystyle 1$"
          },
          "metadata": {},
          "execution_count": 3
        }
      ]
    },
    {
      "cell_type": "markdown",
      "source": [
        "**3. What result do you get? What do you think it means?** (Answers below)"
      ],
      "metadata": {
        "id": "ywTipXNaH5VC"
      },
      "id": "ywTipXNaH5VC"
    },
    {
      "cell_type": "markdown",
      "source": [
        "x + x  ➝  2*x"
      ],
      "metadata": {
        "id": "SUCiJbq7fjYY"
      },
      "id": "SUCiJbq7fjYY"
    },
    {
      "cell_type": "markdown",
      "source": [
        "---\n",
        "## Playing with Derivatives\n",
        "\n",
        "Run this:"
      ],
      "metadata": {
        "id": "_0bSbQm5IPe3"
      },
      "id": "_0bSbQm5IPe3"
    },
    {
      "cell_type": "code",
      "source": [
        "diff(x**2, x)"
      ],
      "metadata": {
        "id": "ODeV9TfcISxy",
        "outputId": "06eb4be5-84a8-45c1-9dba-95bafbbde093",
        "colab": {
          "base_uri": "https://localhost:8080/",
          "height": 39
        }
      },
      "id": "ODeV9TfcISxy",
      "execution_count": 6,
      "outputs": [
        {
          "output_type": "execute_result",
          "data": {
            "text/plain": [
              "2*x"
            ],
            "text/latex": "$\\displaystyle 2 x$"
          },
          "metadata": {},
          "execution_count": 6
        }
      ]
    },
    {
      "cell_type": "markdown",
      "source": [
        "**4. What is the output? Can you describe what it tells you?** (Answers below)"
      ],
      "metadata": {
        "id": "zkB8nUcCIVWK"
      },
      "id": "zkB8nUcCIVWK"
    },
    {
      "cell_type": "markdown",
      "source": [
        "2*x"
      ],
      "metadata": {
        "id": "yKkdjquwf58G"
      },
      "id": "yKkdjquwf58G"
    },
    {
      "cell_type": "markdown",
      "source": [
        "---\n",
        "\n",
        "## 4. Series Expansion\n",
        "\n",
        "Run this code:"
      ],
      "metadata": {
        "id": "MuBEwsMjHvaE"
      },
      "id": "MuBEwsMjHvaE"
    },
    {
      "cell_type": "code",
      "source": [
        "exp(x).series(x, 0, 4)"
      ],
      "metadata": {
        "id": "cfjBnBRDI_zz",
        "outputId": "61441bce-bff1-46ab-8b94-f86d0f748a3d",
        "colab": {
          "base_uri": "https://localhost:8080/",
          "height": 54
        }
      },
      "id": "cfjBnBRDI_zz",
      "execution_count": 7,
      "outputs": [
        {
          "output_type": "execute_result",
          "data": {
            "text/plain": [
              "1 + x + x**2/2 + x**3/6 + O(x**4)"
            ],
            "text/latex": "$\\displaystyle 1 + x + \\frac{x^{2}}{2} + \\frac{x^{3}}{6} + O\\left(x^{4}\\right)$"
          },
          "metadata": {},
          "execution_count": 7
        }
      ]
    },
    {
      "cell_type": "markdown",
      "source": [
        "**5. What do you see? How many terms are shown in the result?**  (Answers below)"
      ],
      "metadata": {
        "id": "v_kHGdQlJDn0"
      },
      "id": "v_kHGdQlJDn0"
    },
    {
      "cell_type": "markdown",
      "source": [
        "You see the expression x + x simplified to:\n",
        "2*x"
      ],
      "metadata": {
        "id": "zKr8SRdBgdHb"
      },
      "id": "zKr8SRdBgdHb"
    },
    {
      "cell_type": "markdown",
      "source": [
        "When you input the expression x + x, the result shown is:\n",
        "2*x"
      ],
      "metadata": {
        "id": "LEI5ht8PgDe_"
      },
      "id": "LEI5ht8PgDe_"
    },
    {
      "cell_type": "markdown",
      "source": [
        "---\n",
        "\n",
        "## 5. Solving Equations\n",
        "\n",
        "Try solving this equation:"
      ],
      "metadata": {
        "id": "o89x7hPEJSzC"
      },
      "id": "o89x7hPEJSzC"
    },
    {
      "cell_type": "code",
      "source": [
        "solve(Eq(x**2 - 4, 0), x)"
      ],
      "metadata": {
        "id": "nZRx2-FMJVU4",
        "outputId": "123f6715-4745-4692-9ec7-dc0ecd68f55a",
        "colab": {
          "base_uri": "https://localhost:8080/"
        }
      },
      "id": "nZRx2-FMJVU4",
      "execution_count": 9,
      "outputs": [
        {
          "output_type": "execute_result",
          "data": {
            "text/plain": [
              "[-2, 2]"
            ]
          },
          "metadata": {},
          "execution_count": 9
        }
      ]
    },
    {
      "cell_type": "markdown",
      "source": [
        "**6. What are the answers?** (Answer below)  "
      ],
      "metadata": {
        "id": "BpwkEmDWJZyS"
      },
      "id": "BpwkEmDWJZyS"
    },
    {
      "cell_type": "markdown",
      "source": [
        "the same variable to itself combines into a single term, and x + x is equivalent to two times x."
      ],
      "metadata": {
        "id": "49WQ7m1_gojR"
      },
      "id": "49WQ7m1_gojR"
    },
    {
      "cell_type": "markdown",
      "source": [
        "**7. What kind of problem do you think this is?** (Answer below)"
      ],
      "metadata": {
        "id": "27ZbZbLIJgzK"
      },
      "id": "27ZbZbLIJgzK"
    },
    {
      "cell_type": "markdown",
      "metadata": {
        "id": "OuURTQQuXTgj"
      },
      "source": [
        "---\n",
        "\n",
        "## 6. Final Thoughts\n",
        "\n",
        "**8. What was your favorite part of this activity?** (Answer below)\n",
        "\n"
      ],
      "id": "OuURTQQuXTgj"
    },
    {
      "cell_type": "markdown",
      "source": [
        "My favorite part of this activity was simplifying the expression x + x and seeing how like terms combine into a single term (2*x). It clearly shows how algebra works and how math can turn something that looks longer into something more efficient and simple. It’s satisfying to see math \"clean up\" expressions like that!"
      ],
      "metadata": {
        "id": "zDf1JXqEhAHg"
      },
      "id": "zDf1JXqEhAHg"
    },
    {
      "cell_type": "markdown",
      "source": [
        "**9. What was something new or surprising you learned?**  (Answer below)"
      ],
      "metadata": {
        "id": "CkwbgwxSJu8g"
      },
      "id": "CkwbgwxSJu8g"
    },
    {
      "cell_type": "markdown",
      "source": [
        " Something new or surprising I learned was how one simple expression like x + x can be reduced to just one term — 2*x. At first, it looks like two separate parts, but then you realize it's just doubling the same value. It was cool to see how math simplifies things so clearly, and it made me understand like terms better.\n",
        "\n",
        "\n",
        "\n",
        "\n",
        "\n",
        "\n",
        "\n",
        "\n",
        "\n"
      ],
      "metadata": {
        "id": "lSYRtZXRhJRJ"
      },
      "id": "lSYRtZXRhJRJ"
    }
  ],
  "metadata": {
    "kernelspec": {
      "display_name": "Python 3",
      "language": "python",
      "name": "python3"
    },
    "language_info": {
      "codemirror_mode": {
        "name": "ipython",
        "version": 3
      },
      "file_extension": ".py",
      "mimetype": "text/x-python",
      "name": "python",
      "nbconvert_exporter": "python",
      "pygments_lexer": "ipython3",
      "version": "3.8.16"
    },
    "colab": {
      "provenance": [],
      "include_colab_link": true
    }
  },
  "nbformat": 4,
  "nbformat_minor": 5
}